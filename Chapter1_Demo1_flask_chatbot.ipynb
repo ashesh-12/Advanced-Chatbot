{
  "cells": [
    {
      "cell_type": "markdown",
      "metadata": {
        "id": "view-in-github",
        "colab_type": "text"
      },
      "source": [
        "<a href=\"https://colab.research.google.com/github/ashesh-12/Advanced-Chatbot/blob/main/Chapter1_Demo1_flask_chatbot.ipynb\" target=\"_parent\"><img src=\"https://colab.research.google.com/assets/colab-badge.svg\" alt=\"Open In Colab\"/></a>"
      ]
    },
    {
      "cell_type": "code",
      "source": [
        "!sudo apt-get remove python3-blinker"
      ],
      "metadata": {
        "colab": {
          "base_uri": "https://localhost:8080/"
        },
        "id": "OrHjGuxUTRdM",
        "outputId": "2a111d64-2630-43ce-f6d9-0e0c43af6120"
      },
      "id": "OrHjGuxUTRdM",
      "execution_count": 6,
      "outputs": [
        {
          "output_type": "stream",
          "name": "stdout",
          "text": [
            "Reading package lists... Done\n",
            "Building dependency tree... Done\n",
            "Reading state information... Done\n",
            "The following packages were automatically installed and are no longer required:\n",
            "  distro-info-data gir1.2-packagekitglib-1.0 libappstream4\n",
            "  libpackagekit-glib2-18 libpolkit-agent-1-0 libpolkit-gobject-1-0\n",
            "  libstemmer0d libxmlb2 libyaml-0-2 lsb-release packagekit pkexec policykit-1\n",
            "  polkitd python-apt-common python3-apt python3-cffi-backend\n",
            "  python3-cryptography python3-dbus python3-distro python3-gi python3-httplib2\n",
            "  python3-jeepney python3-jwt python3-keyring python3-lazr.uri\n",
            "  python3-pkg-resources python3-pyparsing python3-secretstorage python3-six\n",
            "  python3-wadllib\n",
            "Use 'sudo apt autoremove' to remove them.\n",
            "The following packages will be REMOVED:\n",
            "  python3-blinker python3-launchpadlib python3-lazr.restfulclient\n",
            "  python3-oauthlib python3-software-properties software-properties-common\n",
            "0 upgraded, 0 newly installed, 6 to remove and 0 not upgraded.\n",
            "After this operation, 3,022 kB disk space will be freed.\n",
            "(Reading database ... 121944 files and directories currently installed.)\n",
            "Removing software-properties-common (0.99.22.9) ...\n",
            "Removing python3-software-properties (0.99.22.9) ...\n",
            "Removing python3-launchpadlib (1.10.16-1) ...\n",
            "Removing python3-lazr.restfulclient (0.14.4-1) ...\n",
            "Removing python3-oauthlib (3.2.0-1ubuntu0.1) ...\n",
            "Removing python3-blinker (1.4+dfsg1-0.4) ...\n",
            "Processing triggers for dbus (1.12.20-2ubuntu4.1) ...\n",
            "Processing triggers for man-db (2.10.2-1) ...\n"
          ]
        }
      ]
    },
    {
      "cell_type": "code",
      "source": [
        "!pip install flask blinker"
      ],
      "metadata": {
        "colab": {
          "base_uri": "https://localhost:8080/"
        },
        "id": "I57eZU6dTY9M",
        "outputId": "a6cace76-4242-4fdb-f01d-72ce6b7d3c62"
      },
      "id": "I57eZU6dTY9M",
      "execution_count": 7,
      "outputs": [
        {
          "output_type": "stream",
          "name": "stdout",
          "text": [
            "Collecting flask\n",
            "  Using cached flask-3.1.0-py3-none-any.whl.metadata (2.7 kB)\n",
            "Collecting blinker\n",
            "  Using cached blinker-1.9.0-py3-none-any.whl.metadata (1.6 kB)\n",
            "Requirement already satisfied: Werkzeug>=3.1 in /usr/local/lib/python3.11/dist-packages (from flask) (3.1.3)\n",
            "Requirement already satisfied: Jinja2>=3.1.2 in /usr/local/lib/python3.11/dist-packages (from flask) (3.1.6)\n",
            "Requirement already satisfied: itsdangerous>=2.2 in /usr/local/lib/python3.11/dist-packages (from flask) (2.2.0)\n",
            "Requirement already satisfied: click>=8.1.3 in /usr/local/lib/python3.11/dist-packages (from flask) (8.1.8)\n",
            "Requirement already satisfied: MarkupSafe>=2.0 in /usr/local/lib/python3.11/dist-packages (from Jinja2>=3.1.2->flask) (3.0.2)\n",
            "Using cached flask-3.1.0-py3-none-any.whl (102 kB)\n",
            "Using cached blinker-1.9.0-py3-none-any.whl (8.5 kB)\n",
            "Installing collected packages: blinker, flask\n",
            "Successfully installed blinker-1.9.0 flask-3.1.0\n"
          ]
        }
      ]
    },
    {
      "cell_type": "code",
      "execution_count": 8,
      "id": "ee1af366",
      "metadata": {
        "id": "ee1af366",
        "colab": {
          "base_uri": "https://localhost:8080/"
        },
        "outputId": "d7c991db-189c-4b78-aa77-e0714a4e788e"
      },
      "outputs": [
        {
          "output_type": "stream",
          "name": "stdout",
          "text": [
            "Requirement already satisfied: flask in /usr/local/lib/python3.11/dist-packages (3.1.0)\n",
            "Requirement already satisfied: transformers in /usr/local/lib/python3.11/dist-packages (4.51.3)\n",
            "Requirement already satisfied: requests in /usr/local/lib/python3.11/dist-packages (2.32.3)\n",
            "Requirement already satisfied: Werkzeug>=3.1 in /usr/local/lib/python3.11/dist-packages (from flask) (3.1.3)\n",
            "Requirement already satisfied: Jinja2>=3.1.2 in /usr/local/lib/python3.11/dist-packages (from flask) (3.1.6)\n",
            "Requirement already satisfied: itsdangerous>=2.2 in /usr/local/lib/python3.11/dist-packages (from flask) (2.2.0)\n",
            "Requirement already satisfied: click>=8.1.3 in /usr/local/lib/python3.11/dist-packages (from flask) (8.1.8)\n",
            "Requirement already satisfied: blinker>=1.9 in /usr/local/lib/python3.11/dist-packages (from flask) (1.9.0)\n",
            "Requirement already satisfied: filelock in /usr/local/lib/python3.11/dist-packages (from transformers) (3.18.0)\n",
            "Requirement already satisfied: huggingface-hub<1.0,>=0.30.0 in /usr/local/lib/python3.11/dist-packages (from transformers) (0.30.2)\n",
            "Requirement already satisfied: numpy>=1.17 in /usr/local/lib/python3.11/dist-packages (from transformers) (2.0.2)\n",
            "Requirement already satisfied: packaging>=20.0 in /usr/local/lib/python3.11/dist-packages (from transformers) (25.0)\n",
            "Requirement already satisfied: pyyaml>=5.1 in /usr/local/lib/python3.11/dist-packages (from transformers) (6.0.2)\n",
            "Requirement already satisfied: regex!=2019.12.17 in /usr/local/lib/python3.11/dist-packages (from transformers) (2024.11.6)\n",
            "Requirement already satisfied: tokenizers<0.22,>=0.21 in /usr/local/lib/python3.11/dist-packages (from transformers) (0.21.1)\n",
            "Requirement already satisfied: safetensors>=0.4.3 in /usr/local/lib/python3.11/dist-packages (from transformers) (0.5.3)\n",
            "Requirement already satisfied: tqdm>=4.27 in /usr/local/lib/python3.11/dist-packages (from transformers) (4.67.1)\n",
            "Requirement already satisfied: charset-normalizer<4,>=2 in /usr/local/lib/python3.11/dist-packages (from requests) (3.4.1)\n",
            "Requirement already satisfied: idna<4,>=2.5 in /usr/local/lib/python3.11/dist-packages (from requests) (3.10)\n",
            "Requirement already satisfied: urllib3<3,>=1.21.1 in /usr/local/lib/python3.11/dist-packages (from requests) (2.4.0)\n",
            "Requirement already satisfied: certifi>=2017.4.17 in /usr/local/lib/python3.11/dist-packages (from requests) (2025.4.26)\n",
            "Requirement already satisfied: fsspec>=2023.5.0 in /usr/local/lib/python3.11/dist-packages (from huggingface-hub<1.0,>=0.30.0->transformers) (2025.3.2)\n",
            "Requirement already satisfied: typing-extensions>=3.7.4.3 in /usr/local/lib/python3.11/dist-packages (from huggingface-hub<1.0,>=0.30.0->transformers) (4.13.2)\n",
            "Requirement already satisfied: MarkupSafe>=2.0 in /usr/local/lib/python3.11/dist-packages (from Jinja2>=3.1.2->flask) (3.0.2)\n"
          ]
        }
      ],
      "source": [
        "!pip install flask transformers requests"
      ]
    },
    {
      "cell_type": "code",
      "source": [
        "!pip install transformers==4.41.2 # Replace with an appropriate version"
      ],
      "metadata": {
        "colab": {
          "base_uri": "https://localhost:8080/",
          "height": 723
        },
        "id": "5n0gYNAhZyxd",
        "outputId": "8ddaf8ea-47e4-4637-bbc2-e3eb1f43f8dc"
      },
      "id": "5n0gYNAhZyxd",
      "execution_count": 56,
      "outputs": [
        {
          "output_type": "stream",
          "name": "stdout",
          "text": [
            "Collecting transformers==4.41.2\n",
            "  Downloading transformers-4.41.2-py3-none-any.whl.metadata (43 kB)\n",
            "\u001b[?25l     \u001b[90m━━━━━━━━━━━━━━━━━━━━━━━━━━━━━━━━━━━━━━━━\u001b[0m \u001b[32m0.0/43.8 kB\u001b[0m \u001b[31m?\u001b[0m eta \u001b[36m-:--:--\u001b[0m\r\u001b[2K     \u001b[90m━━━━━━━━━━━━━━━━━━━━━━━━━━━━━━━━━━━━━━━━\u001b[0m \u001b[32m43.8/43.8 kB\u001b[0m \u001b[31m1.7 MB/s\u001b[0m eta \u001b[36m0:00:00\u001b[0m\n",
            "\u001b[?25hRequirement already satisfied: filelock in /usr/local/lib/python3.11/dist-packages (from transformers==4.41.2) (3.18.0)\n",
            "Requirement already satisfied: huggingface-hub<1.0,>=0.23.0 in /usr/local/lib/python3.11/dist-packages (from transformers==4.41.2) (0.30.2)\n",
            "Requirement already satisfied: numpy>=1.17 in /usr/local/lib/python3.11/dist-packages (from transformers==4.41.2) (2.0.2)\n",
            "Requirement already satisfied: packaging>=20.0 in /usr/local/lib/python3.11/dist-packages (from transformers==4.41.2) (25.0)\n",
            "Requirement already satisfied: pyyaml>=5.1 in /usr/local/lib/python3.11/dist-packages (from transformers==4.41.2) (6.0.2)\n",
            "Requirement already satisfied: regex!=2019.12.17 in /usr/local/lib/python3.11/dist-packages (from transformers==4.41.2) (2024.11.6)\n",
            "Requirement already satisfied: requests in /usr/local/lib/python3.11/dist-packages (from transformers==4.41.2) (2.32.3)\n",
            "Collecting tokenizers<0.20,>=0.19 (from transformers==4.41.2)\n",
            "  Downloading tokenizers-0.19.1-cp311-cp311-manylinux_2_17_x86_64.manylinux2014_x86_64.whl.metadata (6.7 kB)\n",
            "Requirement already satisfied: safetensors>=0.4.1 in /usr/local/lib/python3.11/dist-packages (from transformers==4.41.2) (0.5.3)\n",
            "Requirement already satisfied: tqdm>=4.27 in /usr/local/lib/python3.11/dist-packages (from transformers==4.41.2) (4.67.1)\n",
            "Requirement already satisfied: fsspec>=2023.5.0 in /usr/local/lib/python3.11/dist-packages (from huggingface-hub<1.0,>=0.23.0->transformers==4.41.2) (2025.3.2)\n",
            "Requirement already satisfied: typing-extensions>=3.7.4.3 in /usr/local/lib/python3.11/dist-packages (from huggingface-hub<1.0,>=0.23.0->transformers==4.41.2) (4.13.2)\n",
            "Requirement already satisfied: charset-normalizer<4,>=2 in /usr/local/lib/python3.11/dist-packages (from requests->transformers==4.41.2) (3.4.1)\n",
            "Requirement already satisfied: idna<4,>=2.5 in /usr/local/lib/python3.11/dist-packages (from requests->transformers==4.41.2) (3.10)\n",
            "Requirement already satisfied: urllib3<3,>=1.21.1 in /usr/local/lib/python3.11/dist-packages (from requests->transformers==4.41.2) (2.4.0)\n",
            "Requirement already satisfied: certifi>=2017.4.17 in /usr/local/lib/python3.11/dist-packages (from requests->transformers==4.41.2) (2025.4.26)\n",
            "Downloading transformers-4.41.2-py3-none-any.whl (9.1 MB)\n",
            "\u001b[2K   \u001b[90m━━━━━━━━━━━━━━━━━━━━━━━━━━━━━━━━━━━━━━━━\u001b[0m \u001b[32m9.1/9.1 MB\u001b[0m \u001b[31m73.8 MB/s\u001b[0m eta \u001b[36m0:00:00\u001b[0m\n",
            "\u001b[?25hDownloading tokenizers-0.19.1-cp311-cp311-manylinux_2_17_x86_64.manylinux2014_x86_64.whl (3.6 MB)\n",
            "\u001b[2K   \u001b[90m━━━━━━━━━━━━━━━━━━━━━━━━━━━━━━━━━━━━━━━━\u001b[0m \u001b[32m3.6/3.6 MB\u001b[0m \u001b[31m99.2 MB/s\u001b[0m eta \u001b[36m0:00:00\u001b[0m\n",
            "\u001b[?25hInstalling collected packages: tokenizers, transformers\n",
            "  Attempting uninstall: tokenizers\n",
            "    Found existing installation: tokenizers 0.21.1\n",
            "    Uninstalling tokenizers-0.21.1:\n",
            "      Successfully uninstalled tokenizers-0.21.1\n",
            "  Attempting uninstall: transformers\n",
            "    Found existing installation: transformers 4.51.3\n",
            "    Uninstalling transformers-4.51.3:\n",
            "      Successfully uninstalled transformers-4.51.3\n",
            "Successfully installed tokenizers-0.19.1 transformers-4.41.2\n"
          ]
        },
        {
          "output_type": "display_data",
          "data": {
            "application/vnd.colab-display-data+json": {
              "pip_warning": {
                "packages": [
                  "transformers"
                ]
              },
              "id": "8de539f2229840b4b0653dd78b1a5cdc"
            }
          },
          "metadata": {}
        }
      ]
    },
    {
      "cell_type": "code",
      "execution_count": 1,
      "id": "bc5ca698",
      "metadata": {
        "id": "bc5ca698",
        "colab": {
          "base_uri": "https://localhost:8080/"
        },
        "outputId": "1fc48c4d-83d1-4feb-8581-69ec4b9898a7"
      },
      "outputs": [
        {
          "output_type": "stream",
          "name": "stdout",
          "text": [
            "Overwriting flask_chatbot_app.py\n"
          ]
        }
      ],
      "source": [
        "%%writefile flask_chatbot_app.py\n",
        "from flask import Flask, request, jsonify\n",
        "from transformers import pipeline\n",
        "\n",
        "app = Flask(__name__)\n",
        "\n",
        "# Load the Hugging Face model\n",
        "try:\n",
        "    chatbot_model = pipeline(\"text-generation\", model=\"microsoft/Phi-3-mini-4k-instruct\", trust_remote_code=True)\n",
        "except Exception as e:\n",
        "    print(f\"Error loading model: {e}\")\n",
        "    # You might want to handle this error more gracefully in a production environment\n",
        "\n",
        "@app.route('/chatbot', methods=['POST'])\n",
        "def chatbot():\n",
        "    user_input = request.json.get('message')\n",
        "    if not user_input:\n",
        "        return jsonify({'response': 'Please provide a message.'}), 400\n",
        "    try:\n",
        "        response = generate_response(user_input)\n",
        "        return jsonify({'response': response})\n",
        "    except Exception as e:\n",
        "        print(f\"Error generating response: {e}\")\n",
        "        return jsonify({'error': 'An error occurred while generating a response.'}), 500\n",
        "\n",
        "def generate_response(user_input):\n",
        "    # Generate a response using the Hugging Face model\n",
        "    messages = [\n",
        "        {\"role\": \"user\", \"content\": user_input},\n",
        "    ]\n",
        "    result = chatbot_model(messages, max_length=250, num_return_sequences=1)\n",
        "    return result[0]['generated_text']\n",
        "\n",
        "if __name__ == '__main__':\n",
        "    app.run(debug=True, port=5000, host='0.0.0.0')"
      ]
    },
    {
      "cell_type": "code",
      "execution_count": 8,
      "id": "3c156a41",
      "metadata": {
        "id": "3c156a41",
        "colab": {
          "base_uri": "https://localhost:8080/"
        },
        "outputId": "f55e3d41-0145-4664-9f1c-acf12629ebfd"
      },
      "outputs": [
        {
          "output_type": "execute_result",
          "data": {
            "text/plain": [
              "CompletedProcess(args=['pkill', '-f', 'flask_chatbot_app.py'], returncode=0)"
            ]
          },
          "metadata": {},
          "execution_count": 8
        }
      ],
      "source": [
        "\n",
        "import subprocess\n",
        "\n",
        "# Stop any running Flask app\n",
        "subprocess.run(['pkill', '-f', 'flask_chatbot_app.py'])"
      ]
    },
    {
      "cell_type": "code",
      "source": [
        "!nohup python flask_chatbot_app.py &"
      ],
      "metadata": {
        "id": "H8WKprlbDp2a",
        "colab": {
          "base_uri": "https://localhost:8080/"
        },
        "outputId": "60fa0020-5027-42f8-fbb4-2c4ce7d92b23"
      },
      "id": "H8WKprlbDp2a",
      "execution_count": 3,
      "outputs": [
        {
          "output_type": "stream",
          "name": "stdout",
          "text": [
            "nohup: appending output to 'nohup.out'\n"
          ]
        }
      ]
    },
    {
      "cell_type": "code",
      "source": [
        "!sudo lsof -i -P -n | grep LISTEN"
      ],
      "metadata": {
        "id": "AdZ2h-xhDNdS",
        "colab": {
          "base_uri": "https://localhost:8080/"
        },
        "outputId": "6e0abaed-43f4-4f65-dc8f-dc596665396c"
      },
      "id": "AdZ2h-xhDNdS",
      "execution_count": 9,
      "outputs": [
        {
          "output_type": "stream",
          "name": "stdout",
          "text": [
            "node          7 root   21u  IPv6 101521      0t0  TCP *:8080 (LISTEN)\n",
            "kernel_ma    18 root    3u  IPv4 114101      0t0  TCP 172.28.0.12:6000 (LISTEN)\n",
            "colab-fil   229 root    3u  IPv4  66089      0t0  TCP 127.0.0.1:3453 (LISTEN)\n",
            "jupyter-n   258 root    7u  IPv4  78082      0t0  TCP 172.28.0.12:9000 (LISTEN)\n",
            "python3   16134 root   28u  IPv4 450464      0t0  TCP 127.0.0.1:45771 (LISTEN)\n",
            "python3   16214 root    3u  IPv4 496129      0t0  TCP 127.0.0.1:42537 (LISTEN)\n",
            "python3   16214 root    5u  IPv4 496130      0t0  TCP 127.0.0.1:59441 (LISTEN)\n"
          ]
        }
      ]
    },
    {
      "cell_type": "code",
      "execution_count": 6,
      "id": "06eb530a",
      "metadata": {
        "id": "06eb530a",
        "colab": {
          "base_uri": "https://localhost:8080/"
        },
        "outputId": "d7dff193-0c3f-468a-8764-fe34b35bdd20"
      },
      "outputs": [
        {
          "output_type": "stream",
          "name": "stdout",
          "text": [
            "{'response': [{'content': 'Hello, how are you?', 'role': 'user'}, {'content': \" I'm doing well. How about you? How can I help you today?\", 'role': 'assistant'}]}\n"
          ]
        }
      ],
      "source": [
        "\n",
        "import requests\n",
        "\n",
        "# Define the URL of the Flask app\n",
        "url = 'http://127.0.0.1:5000/chatbot'\n",
        "\n",
        "# Send a request to the Flask app\n",
        "response = requests.post(url, json={'message': 'Hello, how are you?'})\n",
        "print(response.json())\n"
      ]
    },
    {
      "cell_type": "code",
      "source": [
        "response = requests.post(url, json={'message': 'I was wondering how can I go to Eiffel Tower from the airport using the train and subway?'})\n",
        "print(response.json())"
      ],
      "metadata": {
        "id": "lUyjx1UG9dzc",
        "colab": {
          "base_uri": "https://localhost:8080/"
        },
        "outputId": "8a093bf2-c6ec-47cd-efe7-a369d6a73027"
      },
      "id": "lUyjx1UG9dzc",
      "execution_count": 7,
      "outputs": [
        {
          "output_type": "stream",
          "name": "stdout",
          "text": [
            "{'response': [{'content': 'I was wondering how can I go to Eiffel Tower from the airport using the train and subway?', 'role': 'user'}, {'content': ' To travel from Charles de Gaulle Airport to the Eiffel Tower using the train and subway, follow these steps:\\n\\n\\n1. **Take the RER B Train**:\\n\\n   - Upon exiting the airport, head to the RER B train station, which is called \"Aéroport Charles de Gaulle 2 TGV.\"\\n\\n   - Purchase a ticket for the RER B train. You can buy a single ticket or a Navigo Découverte pass for unlimited travel within a certain period.\\n\\n   - Board the RER B train towards \"Châtelet - Les Halles.\"\\n\\n   - Get off at the \"Châtelet - Les Halles\" station.\\n\\n\\n2. **Transfer to the Metro**:\\n\\n   - At \"Châtelet - Les Halles,\" transfer to the Metro line 4.\\n\\n   - Exit the RER B station and enter the Metro station.\\n\\n   - Take the Metro line 4 towards \"Mairie de Montrouge', 'role': 'assistant'}]}\n"
          ]
        }
      ]
    },
    {
      "cell_type": "code",
      "source": [],
      "metadata": {
        "id": "Powg-oBDZGdM"
      },
      "id": "Powg-oBDZGdM",
      "execution_count": null,
      "outputs": []
    }
  ],
  "metadata": {
    "colab": {
      "provenance": [],
      "gpuType": "V28",
      "include_colab_link": true
    },
    "language_info": {
      "name": "python"
    },
    "kernelspec": {
      "name": "python3",
      "display_name": "Python 3"
    },
    "accelerator": "TPU"
  },
  "nbformat": 4,
  "nbformat_minor": 5
}