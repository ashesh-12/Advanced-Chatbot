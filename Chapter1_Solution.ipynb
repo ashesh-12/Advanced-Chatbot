{
  "cells": [
    {
      "cell_type": "markdown",
      "metadata": {
        "id": "view-in-github",
        "colab_type": "text"
      },
      "source": [
        "<a href=\"https://colab.research.google.com/github/ashesh-12/Advanced-Chatbot/blob/main/Chapter1_Solution.ipynb\" target=\"_parent\"><img src=\"https://colab.research.google.com/assets/colab-badge.svg\" alt=\"Open In Colab\"/></a>"
      ]
    },
    {
      "cell_type": "code",
      "source": [
        "!sudo apt-get remove python3-blinker"
      ],
      "metadata": {
        "colab": {
          "base_uri": "https://localhost:8080/"
        },
        "id": "pew2dWOTYsu4",
        "outputId": "9bd25179-8302-4d90-ca1a-3bd1fb471c2a"
      },
      "id": "pew2dWOTYsu4",
      "execution_count": 10,
      "outputs": [
        {
          "output_type": "stream",
          "name": "stdout",
          "text": [
            "Reading package lists... Done\n",
            "Building dependency tree... Done\n",
            "Reading state information... Done\n",
            "The following packages were automatically installed and are no longer required:\n",
            "  distro-info-data gir1.2-packagekitglib-1.0 libappstream4\n",
            "  libpackagekit-glib2-18 libpolkit-agent-1-0 libpolkit-gobject-1-0\n",
            "  libstemmer0d libxmlb2 libyaml-0-2 lsb-release packagekit pkexec policykit-1\n",
            "  polkitd python-apt-common python3-apt python3-cffi-backend\n",
            "  python3-cryptography python3-dbus python3-distro python3-gi python3-httplib2\n",
            "  python3-jeepney python3-jwt python3-keyring python3-lazr.uri\n",
            "  python3-pkg-resources python3-pyparsing python3-secretstorage python3-six\n",
            "  python3-wadllib\n",
            "Use 'sudo apt autoremove' to remove them.\n",
            "The following packages will be REMOVED:\n",
            "  python3-blinker python3-launchpadlib python3-lazr.restfulclient\n",
            "  python3-oauthlib python3-software-properties software-properties-common\n",
            "0 upgraded, 0 newly installed, 6 to remove and 0 not upgraded.\n",
            "After this operation, 3,022 kB disk space will be freed.\n",
            "(Reading database ... 121944 files and directories currently installed.)\n",
            "Removing software-properties-common (0.99.22.9) ...\n",
            "Removing python3-software-properties (0.99.22.9) ...\n",
            "Removing python3-launchpadlib (1.10.16-1) ...\n",
            "Removing python3-lazr.restfulclient (0.14.4-1) ...\n",
            "Removing python3-oauthlib (3.2.0-1ubuntu0.1) ...\n",
            "Removing python3-blinker (1.4+dfsg1-0.4) ...\n",
            "Processing triggers for dbus (1.12.20-2ubuntu4.1) ...\n",
            "Processing triggers for man-db (2.10.2-1) ...\n"
          ]
        }
      ]
    },
    {
      "cell_type": "code",
      "source": [
        "!pip install flask blinker"
      ],
      "metadata": {
        "colab": {
          "base_uri": "https://localhost:8080/"
        },
        "id": "jf0LXIhxYzDY",
        "outputId": "dbdd4448-7085-4688-9383-1ca791c4f184"
      },
      "id": "jf0LXIhxYzDY",
      "execution_count": 11,
      "outputs": [
        {
          "output_type": "stream",
          "name": "stdout",
          "text": [
            "Collecting flask\n",
            "  Using cached flask-3.1.0-py3-none-any.whl.metadata (2.7 kB)\n",
            "Collecting blinker\n",
            "  Using cached blinker-1.9.0-py3-none-any.whl.metadata (1.6 kB)\n",
            "Requirement already satisfied: Werkzeug>=3.1 in /usr/local/lib/python3.11/dist-packages (from flask) (3.1.3)\n",
            "Requirement already satisfied: Jinja2>=3.1.2 in /usr/local/lib/python3.11/dist-packages (from flask) (3.1.6)\n",
            "Requirement already satisfied: itsdangerous>=2.2 in /usr/local/lib/python3.11/dist-packages (from flask) (2.2.0)\n",
            "Requirement already satisfied: click>=8.1.3 in /usr/local/lib/python3.11/dist-packages (from flask) (8.1.8)\n",
            "Requirement already satisfied: MarkupSafe>=2.0 in /usr/local/lib/python3.11/dist-packages (from Jinja2>=3.1.2->flask) (3.0.2)\n",
            "Using cached flask-3.1.0-py3-none-any.whl (102 kB)\n",
            "Using cached blinker-1.9.0-py3-none-any.whl (8.5 kB)\n",
            "Installing collected packages: blinker, flask\n",
            "Successfully installed blinker-1.9.0 flask-3.1.0\n"
          ]
        }
      ]
    },
    {
      "cell_type": "code",
      "execution_count": 12,
      "id": "ee1af366",
      "metadata": {
        "id": "ee1af366",
        "colab": {
          "base_uri": "https://localhost:8080/"
        },
        "outputId": "436db1b1-f9b5-4059-966d-b0df5f604f65"
      },
      "outputs": [
        {
          "output_type": "stream",
          "name": "stdout",
          "text": [
            "Collecting transformers==4.41.2\n",
            "  Downloading transformers-4.41.2-py3-none-any.whl.metadata (43 kB)\n",
            "\u001b[?25l     \u001b[90m━━━━━━━━━━━━━━━━━━━━━━━━━━━━━━━━━━━━━━━━\u001b[0m \u001b[32m0.0/43.8 kB\u001b[0m \u001b[31m?\u001b[0m eta \u001b[36m-:--:--\u001b[0m\r\u001b[2K     \u001b[90m━━━━━━━━━━━━━━━━━━━━━━━━━━━━━━━━━━━━━━━━\u001b[0m \u001b[32m43.8/43.8 kB\u001b[0m \u001b[31m1.8 MB/s\u001b[0m eta \u001b[36m0:00:00\u001b[0m\n",
            "\u001b[?25hRequirement already satisfied: filelock in /usr/local/lib/python3.11/dist-packages (from transformers==4.41.2) (3.18.0)\n",
            "Requirement already satisfied: huggingface-hub<1.0,>=0.23.0 in /usr/local/lib/python3.11/dist-packages (from transformers==4.41.2) (0.30.2)\n",
            "Requirement already satisfied: numpy>=1.17 in /usr/local/lib/python3.11/dist-packages (from transformers==4.41.2) (2.0.2)\n",
            "Requirement already satisfied: packaging>=20.0 in /usr/local/lib/python3.11/dist-packages (from transformers==4.41.2) (25.0)\n",
            "Requirement already satisfied: pyyaml>=5.1 in /usr/local/lib/python3.11/dist-packages (from transformers==4.41.2) (6.0.2)\n",
            "Requirement already satisfied: regex!=2019.12.17 in /usr/local/lib/python3.11/dist-packages (from transformers==4.41.2) (2024.11.6)\n",
            "Requirement already satisfied: requests in /usr/local/lib/python3.11/dist-packages (from transformers==4.41.2) (2.32.3)\n",
            "Collecting tokenizers<0.20,>=0.19 (from transformers==4.41.2)\n",
            "  Downloading tokenizers-0.19.1-cp311-cp311-manylinux_2_17_x86_64.manylinux2014_x86_64.whl.metadata (6.7 kB)\n",
            "Requirement already satisfied: safetensors>=0.4.1 in /usr/local/lib/python3.11/dist-packages (from transformers==4.41.2) (0.5.3)\n",
            "Requirement already satisfied: tqdm>=4.27 in /usr/local/lib/python3.11/dist-packages (from transformers==4.41.2) (4.67.1)\n",
            "Requirement already satisfied: fsspec>=2023.5.0 in /usr/local/lib/python3.11/dist-packages (from huggingface-hub<1.0,>=0.23.0->transformers==4.41.2) (2025.3.2)\n",
            "Requirement already satisfied: typing-extensions>=3.7.4.3 in /usr/local/lib/python3.11/dist-packages (from huggingface-hub<1.0,>=0.23.0->transformers==4.41.2) (4.13.2)\n",
            "Requirement already satisfied: charset-normalizer<4,>=2 in /usr/local/lib/python3.11/dist-packages (from requests->transformers==4.41.2) (3.4.1)\n",
            "Requirement already satisfied: idna<4,>=2.5 in /usr/local/lib/python3.11/dist-packages (from requests->transformers==4.41.2) (3.10)\n",
            "Requirement already satisfied: urllib3<3,>=1.21.1 in /usr/local/lib/python3.11/dist-packages (from requests->transformers==4.41.2) (2.4.0)\n",
            "Requirement already satisfied: certifi>=2017.4.17 in /usr/local/lib/python3.11/dist-packages (from requests->transformers==4.41.2) (2025.4.26)\n",
            "Downloading transformers-4.41.2-py3-none-any.whl (9.1 MB)\n",
            "\u001b[2K   \u001b[90m━━━━━━━━━━━━━━━━━━━━━━━━━━━━━━━━━━━━━━━━\u001b[0m \u001b[32m9.1/9.1 MB\u001b[0m \u001b[31m76.4 MB/s\u001b[0m eta \u001b[36m0:00:00\u001b[0m\n",
            "\u001b[?25hDownloading tokenizers-0.19.1-cp311-cp311-manylinux_2_17_x86_64.manylinux2014_x86_64.whl (3.6 MB)\n",
            "\u001b[2K   \u001b[90m━━━━━━━━━━━━━━━━━━━━━━━━━━━━━━━━━━━━━━━━\u001b[0m \u001b[32m3.6/3.6 MB\u001b[0m \u001b[31m102.0 MB/s\u001b[0m eta \u001b[36m0:00:00\u001b[0m\n",
            "\u001b[?25hInstalling collected packages: tokenizers, transformers\n",
            "  Attempting uninstall: tokenizers\n",
            "    Found existing installation: tokenizers 0.21.1\n",
            "    Uninstalling tokenizers-0.21.1:\n",
            "      Successfully uninstalled tokenizers-0.21.1\n",
            "  Attempting uninstall: transformers\n",
            "    Found existing installation: transformers 4.51.3\n",
            "    Uninstalling transformers-4.51.3:\n",
            "      Successfully uninstalled transformers-4.51.3\n",
            "Successfully installed tokenizers-0.19.1 transformers-4.41.2\n"
          ]
        }
      ],
      "source": [
        "!pip install transformers==4.41.2 # Replace with an appropriate version"
      ]
    },
    {
      "cell_type": "code",
      "execution_count": 13,
      "id": "bc5ca698",
      "metadata": {
        "id": "bc5ca698",
        "colab": {
          "base_uri": "https://localhost:8080/"
        },
        "outputId": "086e124f-0696-4b75-fae4-546653e1dd59"
      },
      "outputs": [
        {
          "output_type": "stream",
          "name": "stdout",
          "text": [
            "Overwriting flask_chatbot_app.py\n"
          ]
        }
      ],
      "source": [
        "%%writefile flask_chatbot_app.py\n",
        "from flask import Flask, request, jsonify\n",
        "from transformers import pipeline\n",
        "\n",
        "app = Flask(__name__)\n",
        "\n",
        "# Load the Hugging Face model\n",
        "\n",
        "chatbot_model = pipeline(\"text-generation\", model=\"microsoft/Phi-3-mini-4k-instruct\", trust_remote_code=True)\n",
        "conversation_history = []\n",
        "\n",
        "@app.route('/chatbot', methods=['POST'])\n",
        "def chatbot():\n",
        "    user_input = request.json.get('message')\n",
        "    if not user_input:\n",
        "        return jsonify({'response': 'Please provide a message.'}), 400\n",
        "    response = generate_response(user_input)\n",
        "    return jsonify({'response': response})\n",
        "\n",
        "def generate_response(user_input):\n",
        "    # Generate a response using the Hugging Face model\n",
        "    conversation_history.append(\n",
        "        {\"role\": \"user\", \"content\": user_input},\n",
        "    )\n",
        "    result = chatbot_model(conversation_history, num_return_sequences=1, max_new_tokens=250)\n",
        "    conversation_history.append(\n",
        "        {\"role\": \"assistant\", \"content\": result[0]['generated_text'][-1]['content']},\n",
        "    )\n",
        "    return result[0]['generated_text'][-1]['content']\n",
        "\n",
        "if __name__ == '__main__':\n",
        "    app.run(debug=True, port=5000, host='0.0.0.0')\n"
      ]
    },
    {
      "cell_type": "code",
      "execution_count": 14,
      "id": "3c156a41",
      "metadata": {
        "id": "3c156a41",
        "colab": {
          "base_uri": "https://localhost:8080/"
        },
        "outputId": "94078cc9-4cb8-4bef-cd16-3be79a024db0"
      },
      "outputs": [
        {
          "output_type": "execute_result",
          "data": {
            "text/plain": [
              "CompletedProcess(args=['pkill', '-f', 'flask_chatbot_app.py'], returncode=1)"
            ]
          },
          "metadata": {},
          "execution_count": 14
        }
      ],
      "source": [
        "\n",
        "import subprocess\n",
        "\n",
        "# Stop any running Flask app\n",
        "subprocess.run(['pkill', '-f', 'flask_chatbot_app.py'])"
      ]
    },
    {
      "cell_type": "code",
      "source": [
        "!nohup python flask_chatbot_app.py &"
      ],
      "metadata": {
        "id": "H8WKprlbDp2a",
        "colab": {
          "base_uri": "https://localhost:8080/"
        },
        "outputId": "341c8b16-9652-4608-82a8-f5e8a2f8e36f"
      },
      "id": "H8WKprlbDp2a",
      "execution_count": 15,
      "outputs": [
        {
          "output_type": "stream",
          "name": "stdout",
          "text": [
            "nohup: appending output to 'nohup.out'\n"
          ]
        }
      ]
    },
    {
      "cell_type": "code",
      "source": [
        "!sudo lsof -i -P -n | grep LISTEN"
      ],
      "metadata": {
        "id": "AdZ2h-xhDNdS",
        "colab": {
          "base_uri": "https://localhost:8080/"
        },
        "outputId": "7f492e1e-8c6b-47de-db6f-a06a1e816970"
      },
      "id": "AdZ2h-xhDNdS",
      "execution_count": 22,
      "outputs": [
        {
          "output_type": "stream",
          "name": "stdout",
          "text": [
            "node         7 root   21u  IPv6  47262      0t0  TCP *:8080 (LISTEN)\n",
            "kernel_ma   18 root    3u  IPv4  63598      0t0  TCP 172.28.0.12:6000 (LISTEN)\n",
            "colab-fil  201 root    3u  IPv4  21049      0t0  TCP 127.0.0.1:3453 (LISTEN)\n",
            "jupyter-n  222 root    7u  IPv4  21057      0t0  TCP 172.28.0.12:9000 (LISTEN)\n",
            "python3    356 root   28u  IPv4  28990      0t0  TCP 127.0.0.1:41947 (LISTEN)\n",
            "python3    450 root    3u  IPv4  58536      0t0  TCP 127.0.0.1:45001 (LISTEN)\n",
            "python3    450 root    5u  IPv4  58537      0t0  TCP 127.0.0.1:53403 (LISTEN)\n",
            "python3   1482 root    7u  IPv4  39559      0t0  TCP *:5000 (LISTEN)\n",
            "python3   1961 root    6u  IPv4  39559      0t0  TCP *:5000 (LISTEN)\n",
            "python3   1961 root    7u  IPv4  39559      0t0  TCP *:5000 (LISTEN)\n"
          ]
        }
      ]
    },
    {
      "cell_type": "code",
      "execution_count": 23,
      "id": "06eb530a",
      "metadata": {
        "id": "06eb530a",
        "colab": {
          "base_uri": "https://localhost:8080/"
        },
        "outputId": "85ff573f-cde2-4483-808c-5c545a6e8977"
      },
      "outputs": [
        {
          "output_type": "stream",
          "name": "stdout",
          "text": [
            "{'response': \" I'm doing well. How about you? How can I help you today?\"}\n"
          ]
        }
      ],
      "source": [
        "\n",
        "import requests\n",
        "\n",
        "# Define the URL of the Flask app\n",
        "url = 'http://127.0.0.1:5000/chatbot'\n",
        "\n",
        "# Send a request to the Flask app\n",
        "response = requests.post(url, json={'message': 'Hello, how are you?'})\n",
        "print(response.json())\n"
      ]
    },
    {
      "cell_type": "code",
      "source": [
        "response = requests.post(url, json={'message': 'I was wondering how can I go to Eiffel Tower from the airport using the train and subway?'})\n",
        "print(response.json())"
      ],
      "metadata": {
        "id": "lUyjx1UG9dzc",
        "colab": {
          "base_uri": "https://localhost:8080/"
        },
        "outputId": "8ef3cf09-2424-4912-8352-c10706dbbe7b"
      },
      "id": "lUyjx1UG9dzc",
      "execution_count": null,
      "outputs": [
        {
          "output_type": "stream",
          "name": "stdout",
          "text": [
            "{'response': \" To travel from Charles de Gaulle Airport (CDG) to the Eiffel Tower using the train and subway, follow these steps:\\n\\n\\n1. **Airport to Gare de l'Est Train Station:**\\n\\n   - Take the RER B train from Terminal 2 or Terminal 1 to Gare de l'Est. The train ride takes approximately 30 minutes.\\n\\n   - The train station is located inside Terminal 2, so you'll need to take an airport shuttle bus from Terminal 1 to Terminal 2.\\n\\n\\n2. **Gare de l'Est to Eiffel Tower:**\\n\\n   - Once you arrive at Gare de l'Est, you'll need to transfer to the Metro.\\n\\n   - Take Metro Line 1 towards Château de Vincennes and get off at Champ de Mars-Tour Eiffel.\\n\\n   - The ride on the Metro takes about 15 minutes.\\n\\n   - The Eiffel Tower is located at Champ de Mars, which is a short walk from the station.\\n\\n\\nPlease note that you'll need to purchase a\"}\n"
          ]
        }
      ]
    },
    {
      "cell_type": "code",
      "source": [
        "response = requests.post(url, json={'message': 'And how do I go to Arche du Triomphe from there?'})\n",
        "print(response.json())"
      ],
      "metadata": {
        "id": "ci62r3U_AQ9f",
        "colab": {
          "base_uri": "https://localhost:8080/"
        },
        "outputId": "3ee45989-a375-4693-9f3b-5d2b9530716e"
      },
      "id": "ci62r3U_AQ9f",
      "execution_count": null,
      "outputs": [
        {
          "output_type": "stream",
          "name": "stdout",
          "text": [
            "{'response': \" To travel from the Eiffel Tower to the Arc de Triomphe, follow these steps:\\n\\n\\n1. **Eiffel Tower to Arc de Triomphe:**\\n\\n   - From the Eiffel Tower, you have a couple of options to reach the Arc de Triomphe.\\n\\n   - **Option 1: Walking:** The Arc de Triomphe is a 20-minute walk from the Eiffel Tower. Head west on Avenue de la Bourdonnais, then turn left onto Avenue de la Grande Armée, and continue straight until you reach the Arc de Triomphe.\\n\\n   - **Option 2: Metro:**\\n\\n     - Take Metro Line 1 from Champ de Mars-Tour Eiffel to Charles de Gaulle - Étoile.\\n\\n     - Exit at the Charles de Gaulle - Étoile station.\\n\\n     - From there, walk west along Avenue de la Grande Armée for about 10 minutes to reach the Arc de Triomphe.\\n\\n\\nPlease note that the Metro option may be more convenient if you prefer not to walk, especially if you're carrying lug\"}\n"
          ]
        }
      ]
    },
    {
      "cell_type": "code",
      "source": [],
      "metadata": {
        "id": "eQdvfOnaCm8F"
      },
      "id": "eQdvfOnaCm8F",
      "execution_count": null,
      "outputs": []
    }
  ],
  "metadata": {
    "colab": {
      "provenance": [],
      "gpuType": "V28",
      "include_colab_link": true
    },
    "language_info": {
      "name": "python"
    },
    "kernelspec": {
      "name": "python3",
      "display_name": "Python 3"
    },
    "accelerator": "TPU"
  },
  "nbformat": 4,
  "nbformat_minor": 5
}